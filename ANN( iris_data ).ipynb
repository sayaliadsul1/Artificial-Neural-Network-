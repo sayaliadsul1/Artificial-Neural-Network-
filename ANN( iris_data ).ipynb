{
 "cells": [
  {
   "cell_type": "code",
   "execution_count": 1,
   "metadata": {},
   "outputs": [],
   "source": [
    "import numpy as np\n",
    "import pandas as pd\n",
    "import tensorflow as tf"
   ]
  },
  {
   "cell_type": "markdown",
   "metadata": {},
   "source": [
    "# Data Loading"
   ]
  },
  {
   "cell_type": "code",
   "execution_count": 2,
   "metadata": {},
   "outputs": [
    {
     "data": {
      "text/html": [
       "<div>\n",
       "<style scoped>\n",
       "    .dataframe tbody tr th:only-of-type {\n",
       "        vertical-align: middle;\n",
       "    }\n",
       "\n",
       "    .dataframe tbody tr th {\n",
       "        vertical-align: top;\n",
       "    }\n",
       "\n",
       "    .dataframe thead th {\n",
       "        text-align: right;\n",
       "    }\n",
       "</style>\n",
       "<table border=\"1\" class=\"dataframe\">\n",
       "  <thead>\n",
       "    <tr style=\"text-align: right;\">\n",
       "      <th></th>\n",
       "      <th>Id</th>\n",
       "      <th>SepalLengthCm</th>\n",
       "      <th>SepalWidthCm</th>\n",
       "      <th>PetalLengthCm</th>\n",
       "      <th>PetalWidthCm</th>\n",
       "      <th>Species</th>\n",
       "    </tr>\n",
       "  </thead>\n",
       "  <tbody>\n",
       "    <tr>\n",
       "      <th>0</th>\n",
       "      <td>1</td>\n",
       "      <td>5.1</td>\n",
       "      <td>3.5</td>\n",
       "      <td>1.4</td>\n",
       "      <td>0.2</td>\n",
       "      <td>Iris-setosa</td>\n",
       "    </tr>\n",
       "    <tr>\n",
       "      <th>1</th>\n",
       "      <td>2</td>\n",
       "      <td>4.9</td>\n",
       "      <td>3.0</td>\n",
       "      <td>1.4</td>\n",
       "      <td>0.2</td>\n",
       "      <td>Iris-setosa</td>\n",
       "    </tr>\n",
       "    <tr>\n",
       "      <th>2</th>\n",
       "      <td>3</td>\n",
       "      <td>4.7</td>\n",
       "      <td>3.2</td>\n",
       "      <td>1.3</td>\n",
       "      <td>0.2</td>\n",
       "      <td>Iris-setosa</td>\n",
       "    </tr>\n",
       "    <tr>\n",
       "      <th>3</th>\n",
       "      <td>4</td>\n",
       "      <td>4.6</td>\n",
       "      <td>3.1</td>\n",
       "      <td>1.5</td>\n",
       "      <td>0.2</td>\n",
       "      <td>Iris-setosa</td>\n",
       "    </tr>\n",
       "    <tr>\n",
       "      <th>4</th>\n",
       "      <td>5</td>\n",
       "      <td>5.0</td>\n",
       "      <td>3.6</td>\n",
       "      <td>1.4</td>\n",
       "      <td>0.2</td>\n",
       "      <td>Iris-setosa</td>\n",
       "    </tr>\n",
       "    <tr>\n",
       "      <th>...</th>\n",
       "      <td>...</td>\n",
       "      <td>...</td>\n",
       "      <td>...</td>\n",
       "      <td>...</td>\n",
       "      <td>...</td>\n",
       "      <td>...</td>\n",
       "    </tr>\n",
       "    <tr>\n",
       "      <th>145</th>\n",
       "      <td>146</td>\n",
       "      <td>6.7</td>\n",
       "      <td>3.0</td>\n",
       "      <td>5.2</td>\n",
       "      <td>2.3</td>\n",
       "      <td>Iris-virginica</td>\n",
       "    </tr>\n",
       "    <tr>\n",
       "      <th>146</th>\n",
       "      <td>147</td>\n",
       "      <td>6.3</td>\n",
       "      <td>2.5</td>\n",
       "      <td>5.0</td>\n",
       "      <td>1.9</td>\n",
       "      <td>Iris-virginica</td>\n",
       "    </tr>\n",
       "    <tr>\n",
       "      <th>147</th>\n",
       "      <td>148</td>\n",
       "      <td>6.5</td>\n",
       "      <td>3.0</td>\n",
       "      <td>5.2</td>\n",
       "      <td>2.0</td>\n",
       "      <td>Iris-virginica</td>\n",
       "    </tr>\n",
       "    <tr>\n",
       "      <th>148</th>\n",
       "      <td>149</td>\n",
       "      <td>6.2</td>\n",
       "      <td>3.4</td>\n",
       "      <td>5.4</td>\n",
       "      <td>2.3</td>\n",
       "      <td>Iris-virginica</td>\n",
       "    </tr>\n",
       "    <tr>\n",
       "      <th>149</th>\n",
       "      <td>150</td>\n",
       "      <td>5.9</td>\n",
       "      <td>3.0</td>\n",
       "      <td>5.1</td>\n",
       "      <td>1.8</td>\n",
       "      <td>Iris-virginica</td>\n",
       "    </tr>\n",
       "  </tbody>\n",
       "</table>\n",
       "<p>150 rows × 6 columns</p>\n",
       "</div>"
      ],
      "text/plain": [
       "      Id  SepalLengthCm  SepalWidthCm  PetalLengthCm  PetalWidthCm  \\\n",
       "0      1            5.1           3.5            1.4           0.2   \n",
       "1      2            4.9           3.0            1.4           0.2   \n",
       "2      3            4.7           3.2            1.3           0.2   \n",
       "3      4            4.6           3.1            1.5           0.2   \n",
       "4      5            5.0           3.6            1.4           0.2   \n",
       "..   ...            ...           ...            ...           ...   \n",
       "145  146            6.7           3.0            5.2           2.3   \n",
       "146  147            6.3           2.5            5.0           1.9   \n",
       "147  148            6.5           3.0            5.2           2.0   \n",
       "148  149            6.2           3.4            5.4           2.3   \n",
       "149  150            5.9           3.0            5.1           1.8   \n",
       "\n",
       "            Species  \n",
       "0       Iris-setosa  \n",
       "1       Iris-setosa  \n",
       "2       Iris-setosa  \n",
       "3       Iris-setosa  \n",
       "4       Iris-setosa  \n",
       "..              ...  \n",
       "145  Iris-virginica  \n",
       "146  Iris-virginica  \n",
       "147  Iris-virginica  \n",
       "148  Iris-virginica  \n",
       "149  Iris-virginica  \n",
       "\n",
       "[150 rows x 6 columns]"
      ]
     },
     "execution_count": 2,
     "metadata": {},
     "output_type": "execute_result"
    }
   ],
   "source": [
    "iris = pd.read_csv(r\"C:\\Users\\Acer\\Desktop\\Dataset\\Iris.csv\")\n",
    "iris"
   ]
  },
  {
   "cell_type": "markdown",
   "metadata": {},
   "source": [
    "# info"
   ]
  },
  {
   "cell_type": "code",
   "execution_count": 3,
   "metadata": {},
   "outputs": [
    {
     "name": "stdout",
     "output_type": "stream",
     "text": [
      "<class 'pandas.core.frame.DataFrame'>\n",
      "RangeIndex: 150 entries, 0 to 149\n",
      "Data columns (total 6 columns):\n",
      " #   Column         Non-Null Count  Dtype  \n",
      "---  ------         --------------  -----  \n",
      " 0   Id             150 non-null    int64  \n",
      " 1   SepalLengthCm  150 non-null    float64\n",
      " 2   SepalWidthCm   150 non-null    float64\n",
      " 3   PetalLengthCm  150 non-null    float64\n",
      " 4   PetalWidthCm   150 non-null    float64\n",
      " 5   Species        150 non-null    object \n",
      "dtypes: float64(4), int64(1), object(1)\n",
      "memory usage: 7.2+ KB\n"
     ]
    }
   ],
   "source": [
    "iris.info()"
   ]
  },
  {
   "cell_type": "markdown",
   "metadata": {},
   "source": [
    "# describe"
   ]
  },
  {
   "cell_type": "code",
   "execution_count": 4,
   "metadata": {},
   "outputs": [
    {
     "data": {
      "text/html": [
       "<div>\n",
       "<style scoped>\n",
       "    .dataframe tbody tr th:only-of-type {\n",
       "        vertical-align: middle;\n",
       "    }\n",
       "\n",
       "    .dataframe tbody tr th {\n",
       "        vertical-align: top;\n",
       "    }\n",
       "\n",
       "    .dataframe thead th {\n",
       "        text-align: right;\n",
       "    }\n",
       "</style>\n",
       "<table border=\"1\" class=\"dataframe\">\n",
       "  <thead>\n",
       "    <tr style=\"text-align: right;\">\n",
       "      <th></th>\n",
       "      <th>Id</th>\n",
       "      <th>SepalLengthCm</th>\n",
       "      <th>SepalWidthCm</th>\n",
       "      <th>PetalLengthCm</th>\n",
       "      <th>PetalWidthCm</th>\n",
       "    </tr>\n",
       "  </thead>\n",
       "  <tbody>\n",
       "    <tr>\n",
       "      <th>count</th>\n",
       "      <td>150.000000</td>\n",
       "      <td>150.000000</td>\n",
       "      <td>150.000000</td>\n",
       "      <td>150.000000</td>\n",
       "      <td>150.000000</td>\n",
       "    </tr>\n",
       "    <tr>\n",
       "      <th>mean</th>\n",
       "      <td>75.500000</td>\n",
       "      <td>5.843333</td>\n",
       "      <td>3.054000</td>\n",
       "      <td>3.758667</td>\n",
       "      <td>1.198667</td>\n",
       "    </tr>\n",
       "    <tr>\n",
       "      <th>std</th>\n",
       "      <td>43.445368</td>\n",
       "      <td>0.828066</td>\n",
       "      <td>0.433594</td>\n",
       "      <td>1.764420</td>\n",
       "      <td>0.763161</td>\n",
       "    </tr>\n",
       "    <tr>\n",
       "      <th>min</th>\n",
       "      <td>1.000000</td>\n",
       "      <td>4.300000</td>\n",
       "      <td>2.000000</td>\n",
       "      <td>1.000000</td>\n",
       "      <td>0.100000</td>\n",
       "    </tr>\n",
       "    <tr>\n",
       "      <th>25%</th>\n",
       "      <td>38.250000</td>\n",
       "      <td>5.100000</td>\n",
       "      <td>2.800000</td>\n",
       "      <td>1.600000</td>\n",
       "      <td>0.300000</td>\n",
       "    </tr>\n",
       "    <tr>\n",
       "      <th>50%</th>\n",
       "      <td>75.500000</td>\n",
       "      <td>5.800000</td>\n",
       "      <td>3.000000</td>\n",
       "      <td>4.350000</td>\n",
       "      <td>1.300000</td>\n",
       "    </tr>\n",
       "    <tr>\n",
       "      <th>75%</th>\n",
       "      <td>112.750000</td>\n",
       "      <td>6.400000</td>\n",
       "      <td>3.300000</td>\n",
       "      <td>5.100000</td>\n",
       "      <td>1.800000</td>\n",
       "    </tr>\n",
       "    <tr>\n",
       "      <th>max</th>\n",
       "      <td>150.000000</td>\n",
       "      <td>7.900000</td>\n",
       "      <td>4.400000</td>\n",
       "      <td>6.900000</td>\n",
       "      <td>2.500000</td>\n",
       "    </tr>\n",
       "  </tbody>\n",
       "</table>\n",
       "</div>"
      ],
      "text/plain": [
       "               Id  SepalLengthCm  SepalWidthCm  PetalLengthCm  PetalWidthCm\n",
       "count  150.000000     150.000000    150.000000     150.000000    150.000000\n",
       "mean    75.500000       5.843333      3.054000       3.758667      1.198667\n",
       "std     43.445368       0.828066      0.433594       1.764420      0.763161\n",
       "min      1.000000       4.300000      2.000000       1.000000      0.100000\n",
       "25%     38.250000       5.100000      2.800000       1.600000      0.300000\n",
       "50%     75.500000       5.800000      3.000000       4.350000      1.300000\n",
       "75%    112.750000       6.400000      3.300000       5.100000      1.800000\n",
       "max    150.000000       7.900000      4.400000       6.900000      2.500000"
      ]
     },
     "execution_count": 4,
     "metadata": {},
     "output_type": "execute_result"
    }
   ],
   "source": [
    "iris.describe()"
   ]
  },
  {
   "cell_type": "markdown",
   "metadata": {},
   "source": [
    "# Checking null values"
   ]
  },
  {
   "cell_type": "code",
   "execution_count": 5,
   "metadata": {},
   "outputs": [
    {
     "data": {
      "text/plain": [
       "Id               False\n",
       "SepalLengthCm    False\n",
       "SepalWidthCm     False\n",
       "PetalLengthCm    False\n",
       "PetalWidthCm     False\n",
       "Species          False\n",
       "dtype: bool"
      ]
     },
     "execution_count": 5,
     "metadata": {},
     "output_type": "execute_result"
    }
   ],
   "source": [
    "iris.isnull().any()"
   ]
  },
  {
   "cell_type": "code",
   "execution_count": 6,
   "metadata": {},
   "outputs": [
    {
     "data": {
      "text/plain": [
       "Id               0\n",
       "SepalLengthCm    0\n",
       "SepalWidthCm     0\n",
       "PetalLengthCm    0\n",
       "PetalWidthCm     0\n",
       "Species          0\n",
       "dtype: int64"
      ]
     },
     "execution_count": 6,
     "metadata": {},
     "output_type": "execute_result"
    }
   ],
   "source": [
    "iris.isnull().sum()"
   ]
  },
  {
   "cell_type": "markdown",
   "metadata": {},
   "source": [
    "# Label Encoding"
   ]
  },
  {
   "cell_type": "code",
   "execution_count": 7,
   "metadata": {},
   "outputs": [
    {
     "data": {
      "text/html": [
       "<div>\n",
       "<style scoped>\n",
       "    .dataframe tbody tr th:only-of-type {\n",
       "        vertical-align: middle;\n",
       "    }\n",
       "\n",
       "    .dataframe tbody tr th {\n",
       "        vertical-align: top;\n",
       "    }\n",
       "\n",
       "    .dataframe thead th {\n",
       "        text-align: right;\n",
       "    }\n",
       "</style>\n",
       "<table border=\"1\" class=\"dataframe\">\n",
       "  <thead>\n",
       "    <tr style=\"text-align: right;\">\n",
       "      <th></th>\n",
       "      <th>Id</th>\n",
       "      <th>SepalLengthCm</th>\n",
       "      <th>SepalWidthCm</th>\n",
       "      <th>PetalLengthCm</th>\n",
       "      <th>PetalWidthCm</th>\n",
       "      <th>Species</th>\n",
       "    </tr>\n",
       "  </thead>\n",
       "  <tbody>\n",
       "    <tr>\n",
       "      <th>0</th>\n",
       "      <td>1</td>\n",
       "      <td>5.1</td>\n",
       "      <td>3.5</td>\n",
       "      <td>1.4</td>\n",
       "      <td>0.2</td>\n",
       "      <td>0</td>\n",
       "    </tr>\n",
       "    <tr>\n",
       "      <th>1</th>\n",
       "      <td>2</td>\n",
       "      <td>4.9</td>\n",
       "      <td>3.0</td>\n",
       "      <td>1.4</td>\n",
       "      <td>0.2</td>\n",
       "      <td>0</td>\n",
       "    </tr>\n",
       "    <tr>\n",
       "      <th>2</th>\n",
       "      <td>3</td>\n",
       "      <td>4.7</td>\n",
       "      <td>3.2</td>\n",
       "      <td>1.3</td>\n",
       "      <td>0.2</td>\n",
       "      <td>0</td>\n",
       "    </tr>\n",
       "    <tr>\n",
       "      <th>3</th>\n",
       "      <td>4</td>\n",
       "      <td>4.6</td>\n",
       "      <td>3.1</td>\n",
       "      <td>1.5</td>\n",
       "      <td>0.2</td>\n",
       "      <td>0</td>\n",
       "    </tr>\n",
       "    <tr>\n",
       "      <th>4</th>\n",
       "      <td>5</td>\n",
       "      <td>5.0</td>\n",
       "      <td>3.6</td>\n",
       "      <td>1.4</td>\n",
       "      <td>0.2</td>\n",
       "      <td>0</td>\n",
       "    </tr>\n",
       "    <tr>\n",
       "      <th>...</th>\n",
       "      <td>...</td>\n",
       "      <td>...</td>\n",
       "      <td>...</td>\n",
       "      <td>...</td>\n",
       "      <td>...</td>\n",
       "      <td>...</td>\n",
       "    </tr>\n",
       "    <tr>\n",
       "      <th>145</th>\n",
       "      <td>146</td>\n",
       "      <td>6.7</td>\n",
       "      <td>3.0</td>\n",
       "      <td>5.2</td>\n",
       "      <td>2.3</td>\n",
       "      <td>2</td>\n",
       "    </tr>\n",
       "    <tr>\n",
       "      <th>146</th>\n",
       "      <td>147</td>\n",
       "      <td>6.3</td>\n",
       "      <td>2.5</td>\n",
       "      <td>5.0</td>\n",
       "      <td>1.9</td>\n",
       "      <td>2</td>\n",
       "    </tr>\n",
       "    <tr>\n",
       "      <th>147</th>\n",
       "      <td>148</td>\n",
       "      <td>6.5</td>\n",
       "      <td>3.0</td>\n",
       "      <td>5.2</td>\n",
       "      <td>2.0</td>\n",
       "      <td>2</td>\n",
       "    </tr>\n",
       "    <tr>\n",
       "      <th>148</th>\n",
       "      <td>149</td>\n",
       "      <td>6.2</td>\n",
       "      <td>3.4</td>\n",
       "      <td>5.4</td>\n",
       "      <td>2.3</td>\n",
       "      <td>2</td>\n",
       "    </tr>\n",
       "    <tr>\n",
       "      <th>149</th>\n",
       "      <td>150</td>\n",
       "      <td>5.9</td>\n",
       "      <td>3.0</td>\n",
       "      <td>5.1</td>\n",
       "      <td>1.8</td>\n",
       "      <td>2</td>\n",
       "    </tr>\n",
       "  </tbody>\n",
       "</table>\n",
       "<p>150 rows × 6 columns</p>\n",
       "</div>"
      ],
      "text/plain": [
       "      Id  SepalLengthCm  SepalWidthCm  PetalLengthCm  PetalWidthCm  Species\n",
       "0      1            5.1           3.5            1.4           0.2        0\n",
       "1      2            4.9           3.0            1.4           0.2        0\n",
       "2      3            4.7           3.2            1.3           0.2        0\n",
       "3      4            4.6           3.1            1.5           0.2        0\n",
       "4      5            5.0           3.6            1.4           0.2        0\n",
       "..   ...            ...           ...            ...           ...      ...\n",
       "145  146            6.7           3.0            5.2           2.3        2\n",
       "146  147            6.3           2.5            5.0           1.9        2\n",
       "147  148            6.5           3.0            5.2           2.0        2\n",
       "148  149            6.2           3.4            5.4           2.3        2\n",
       "149  150            5.9           3.0            5.1           1.8        2\n",
       "\n",
       "[150 rows x 6 columns]"
      ]
     },
     "execution_count": 7,
     "metadata": {},
     "output_type": "execute_result"
    }
   ],
   "source": [
    "from sklearn.preprocessing import LabelEncoder\n",
    "L1 = LabelEncoder()\n",
    "iris[\"Species\"]=L1.fit_transform(iris[\"Species\"])\n",
    "iris"
   ]
  },
  {
   "cell_type": "code",
   "execution_count": 8,
   "metadata": {},
   "outputs": [
    {
     "data": {
      "text/plain": [
       "array([[1.00e+00, 5.10e+00, 3.50e+00, 1.40e+00, 2.00e-01],\n",
       "       [2.00e+00, 4.90e+00, 3.00e+00, 1.40e+00, 2.00e-01],\n",
       "       [3.00e+00, 4.70e+00, 3.20e+00, 1.30e+00, 2.00e-01],\n",
       "       [4.00e+00, 4.60e+00, 3.10e+00, 1.50e+00, 2.00e-01],\n",
       "       [5.00e+00, 5.00e+00, 3.60e+00, 1.40e+00, 2.00e-01],\n",
       "       [6.00e+00, 5.40e+00, 3.90e+00, 1.70e+00, 4.00e-01],\n",
       "       [7.00e+00, 4.60e+00, 3.40e+00, 1.40e+00, 3.00e-01],\n",
       "       [8.00e+00, 5.00e+00, 3.40e+00, 1.50e+00, 2.00e-01],\n",
       "       [9.00e+00, 4.40e+00, 2.90e+00, 1.40e+00, 2.00e-01],\n",
       "       [1.00e+01, 4.90e+00, 3.10e+00, 1.50e+00, 1.00e-01],\n",
       "       [1.10e+01, 5.40e+00, 3.70e+00, 1.50e+00, 2.00e-01],\n",
       "       [1.20e+01, 4.80e+00, 3.40e+00, 1.60e+00, 2.00e-01],\n",
       "       [1.30e+01, 4.80e+00, 3.00e+00, 1.40e+00, 1.00e-01],\n",
       "       [1.40e+01, 4.30e+00, 3.00e+00, 1.10e+00, 1.00e-01],\n",
       "       [1.50e+01, 5.80e+00, 4.00e+00, 1.20e+00, 2.00e-01],\n",
       "       [1.60e+01, 5.70e+00, 4.40e+00, 1.50e+00, 4.00e-01],\n",
       "       [1.70e+01, 5.40e+00, 3.90e+00, 1.30e+00, 4.00e-01],\n",
       "       [1.80e+01, 5.10e+00, 3.50e+00, 1.40e+00, 3.00e-01],\n",
       "       [1.90e+01, 5.70e+00, 3.80e+00, 1.70e+00, 3.00e-01],\n",
       "       [2.00e+01, 5.10e+00, 3.80e+00, 1.50e+00, 3.00e-01],\n",
       "       [2.10e+01, 5.40e+00, 3.40e+00, 1.70e+00, 2.00e-01],\n",
       "       [2.20e+01, 5.10e+00, 3.70e+00, 1.50e+00, 4.00e-01],\n",
       "       [2.30e+01, 4.60e+00, 3.60e+00, 1.00e+00, 2.00e-01],\n",
       "       [2.40e+01, 5.10e+00, 3.30e+00, 1.70e+00, 5.00e-01],\n",
       "       [2.50e+01, 4.80e+00, 3.40e+00, 1.90e+00, 2.00e-01],\n",
       "       [2.60e+01, 5.00e+00, 3.00e+00, 1.60e+00, 2.00e-01],\n",
       "       [2.70e+01, 5.00e+00, 3.40e+00, 1.60e+00, 4.00e-01],\n",
       "       [2.80e+01, 5.20e+00, 3.50e+00, 1.50e+00, 2.00e-01],\n",
       "       [2.90e+01, 5.20e+00, 3.40e+00, 1.40e+00, 2.00e-01],\n",
       "       [3.00e+01, 4.70e+00, 3.20e+00, 1.60e+00, 2.00e-01],\n",
       "       [3.10e+01, 4.80e+00, 3.10e+00, 1.60e+00, 2.00e-01],\n",
       "       [3.20e+01, 5.40e+00, 3.40e+00, 1.50e+00, 4.00e-01],\n",
       "       [3.30e+01, 5.20e+00, 4.10e+00, 1.50e+00, 1.00e-01],\n",
       "       [3.40e+01, 5.50e+00, 4.20e+00, 1.40e+00, 2.00e-01],\n",
       "       [3.50e+01, 4.90e+00, 3.10e+00, 1.50e+00, 1.00e-01],\n",
       "       [3.60e+01, 5.00e+00, 3.20e+00, 1.20e+00, 2.00e-01],\n",
       "       [3.70e+01, 5.50e+00, 3.50e+00, 1.30e+00, 2.00e-01],\n",
       "       [3.80e+01, 4.90e+00, 3.10e+00, 1.50e+00, 1.00e-01],\n",
       "       [3.90e+01, 4.40e+00, 3.00e+00, 1.30e+00, 2.00e-01],\n",
       "       [4.00e+01, 5.10e+00, 3.40e+00, 1.50e+00, 2.00e-01],\n",
       "       [4.10e+01, 5.00e+00, 3.50e+00, 1.30e+00, 3.00e-01],\n",
       "       [4.20e+01, 4.50e+00, 2.30e+00, 1.30e+00, 3.00e-01],\n",
       "       [4.30e+01, 4.40e+00, 3.20e+00, 1.30e+00, 2.00e-01],\n",
       "       [4.40e+01, 5.00e+00, 3.50e+00, 1.60e+00, 6.00e-01],\n",
       "       [4.50e+01, 5.10e+00, 3.80e+00, 1.90e+00, 4.00e-01],\n",
       "       [4.60e+01, 4.80e+00, 3.00e+00, 1.40e+00, 3.00e-01],\n",
       "       [4.70e+01, 5.10e+00, 3.80e+00, 1.60e+00, 2.00e-01],\n",
       "       [4.80e+01, 4.60e+00, 3.20e+00, 1.40e+00, 2.00e-01],\n",
       "       [4.90e+01, 5.30e+00, 3.70e+00, 1.50e+00, 2.00e-01],\n",
       "       [5.00e+01, 5.00e+00, 3.30e+00, 1.40e+00, 2.00e-01],\n",
       "       [5.10e+01, 7.00e+00, 3.20e+00, 4.70e+00, 1.40e+00],\n",
       "       [5.20e+01, 6.40e+00, 3.20e+00, 4.50e+00, 1.50e+00],\n",
       "       [5.30e+01, 6.90e+00, 3.10e+00, 4.90e+00, 1.50e+00],\n",
       "       [5.40e+01, 5.50e+00, 2.30e+00, 4.00e+00, 1.30e+00],\n",
       "       [5.50e+01, 6.50e+00, 2.80e+00, 4.60e+00, 1.50e+00],\n",
       "       [5.60e+01, 5.70e+00, 2.80e+00, 4.50e+00, 1.30e+00],\n",
       "       [5.70e+01, 6.30e+00, 3.30e+00, 4.70e+00, 1.60e+00],\n",
       "       [5.80e+01, 4.90e+00, 2.40e+00, 3.30e+00, 1.00e+00],\n",
       "       [5.90e+01, 6.60e+00, 2.90e+00, 4.60e+00, 1.30e+00],\n",
       "       [6.00e+01, 5.20e+00, 2.70e+00, 3.90e+00, 1.40e+00],\n",
       "       [6.10e+01, 5.00e+00, 2.00e+00, 3.50e+00, 1.00e+00],\n",
       "       [6.20e+01, 5.90e+00, 3.00e+00, 4.20e+00, 1.50e+00],\n",
       "       [6.30e+01, 6.00e+00, 2.20e+00, 4.00e+00, 1.00e+00],\n",
       "       [6.40e+01, 6.10e+00, 2.90e+00, 4.70e+00, 1.40e+00],\n",
       "       [6.50e+01, 5.60e+00, 2.90e+00, 3.60e+00, 1.30e+00],\n",
       "       [6.60e+01, 6.70e+00, 3.10e+00, 4.40e+00, 1.40e+00],\n",
       "       [6.70e+01, 5.60e+00, 3.00e+00, 4.50e+00, 1.50e+00],\n",
       "       [6.80e+01, 5.80e+00, 2.70e+00, 4.10e+00, 1.00e+00],\n",
       "       [6.90e+01, 6.20e+00, 2.20e+00, 4.50e+00, 1.50e+00],\n",
       "       [7.00e+01, 5.60e+00, 2.50e+00, 3.90e+00, 1.10e+00],\n",
       "       [7.10e+01, 5.90e+00, 3.20e+00, 4.80e+00, 1.80e+00],\n",
       "       [7.20e+01, 6.10e+00, 2.80e+00, 4.00e+00, 1.30e+00],\n",
       "       [7.30e+01, 6.30e+00, 2.50e+00, 4.90e+00, 1.50e+00],\n",
       "       [7.40e+01, 6.10e+00, 2.80e+00, 4.70e+00, 1.20e+00],\n",
       "       [7.50e+01, 6.40e+00, 2.90e+00, 4.30e+00, 1.30e+00],\n",
       "       [7.60e+01, 6.60e+00, 3.00e+00, 4.40e+00, 1.40e+00],\n",
       "       [7.70e+01, 6.80e+00, 2.80e+00, 4.80e+00, 1.40e+00],\n",
       "       [7.80e+01, 6.70e+00, 3.00e+00, 5.00e+00, 1.70e+00],\n",
       "       [7.90e+01, 6.00e+00, 2.90e+00, 4.50e+00, 1.50e+00],\n",
       "       [8.00e+01, 5.70e+00, 2.60e+00, 3.50e+00, 1.00e+00],\n",
       "       [8.10e+01, 5.50e+00, 2.40e+00, 3.80e+00, 1.10e+00],\n",
       "       [8.20e+01, 5.50e+00, 2.40e+00, 3.70e+00, 1.00e+00],\n",
       "       [8.30e+01, 5.80e+00, 2.70e+00, 3.90e+00, 1.20e+00],\n",
       "       [8.40e+01, 6.00e+00, 2.70e+00, 5.10e+00, 1.60e+00],\n",
       "       [8.50e+01, 5.40e+00, 3.00e+00, 4.50e+00, 1.50e+00],\n",
       "       [8.60e+01, 6.00e+00, 3.40e+00, 4.50e+00, 1.60e+00],\n",
       "       [8.70e+01, 6.70e+00, 3.10e+00, 4.70e+00, 1.50e+00],\n",
       "       [8.80e+01, 6.30e+00, 2.30e+00, 4.40e+00, 1.30e+00],\n",
       "       [8.90e+01, 5.60e+00, 3.00e+00, 4.10e+00, 1.30e+00],\n",
       "       [9.00e+01, 5.50e+00, 2.50e+00, 4.00e+00, 1.30e+00],\n",
       "       [9.10e+01, 5.50e+00, 2.60e+00, 4.40e+00, 1.20e+00],\n",
       "       [9.20e+01, 6.10e+00, 3.00e+00, 4.60e+00, 1.40e+00],\n",
       "       [9.30e+01, 5.80e+00, 2.60e+00, 4.00e+00, 1.20e+00],\n",
       "       [9.40e+01, 5.00e+00, 2.30e+00, 3.30e+00, 1.00e+00],\n",
       "       [9.50e+01, 5.60e+00, 2.70e+00, 4.20e+00, 1.30e+00],\n",
       "       [9.60e+01, 5.70e+00, 3.00e+00, 4.20e+00, 1.20e+00],\n",
       "       [9.70e+01, 5.70e+00, 2.90e+00, 4.20e+00, 1.30e+00],\n",
       "       [9.80e+01, 6.20e+00, 2.90e+00, 4.30e+00, 1.30e+00],\n",
       "       [9.90e+01, 5.10e+00, 2.50e+00, 3.00e+00, 1.10e+00],\n",
       "       [1.00e+02, 5.70e+00, 2.80e+00, 4.10e+00, 1.30e+00],\n",
       "       [1.01e+02, 6.30e+00, 3.30e+00, 6.00e+00, 2.50e+00],\n",
       "       [1.02e+02, 5.80e+00, 2.70e+00, 5.10e+00, 1.90e+00],\n",
       "       [1.03e+02, 7.10e+00, 3.00e+00, 5.90e+00, 2.10e+00],\n",
       "       [1.04e+02, 6.30e+00, 2.90e+00, 5.60e+00, 1.80e+00],\n",
       "       [1.05e+02, 6.50e+00, 3.00e+00, 5.80e+00, 2.20e+00],\n",
       "       [1.06e+02, 7.60e+00, 3.00e+00, 6.60e+00, 2.10e+00],\n",
       "       [1.07e+02, 4.90e+00, 2.50e+00, 4.50e+00, 1.70e+00],\n",
       "       [1.08e+02, 7.30e+00, 2.90e+00, 6.30e+00, 1.80e+00],\n",
       "       [1.09e+02, 6.70e+00, 2.50e+00, 5.80e+00, 1.80e+00],\n",
       "       [1.10e+02, 7.20e+00, 3.60e+00, 6.10e+00, 2.50e+00],\n",
       "       [1.11e+02, 6.50e+00, 3.20e+00, 5.10e+00, 2.00e+00],\n",
       "       [1.12e+02, 6.40e+00, 2.70e+00, 5.30e+00, 1.90e+00],\n",
       "       [1.13e+02, 6.80e+00, 3.00e+00, 5.50e+00, 2.10e+00],\n",
       "       [1.14e+02, 5.70e+00, 2.50e+00, 5.00e+00, 2.00e+00],\n",
       "       [1.15e+02, 5.80e+00, 2.80e+00, 5.10e+00, 2.40e+00],\n",
       "       [1.16e+02, 6.40e+00, 3.20e+00, 5.30e+00, 2.30e+00],\n",
       "       [1.17e+02, 6.50e+00, 3.00e+00, 5.50e+00, 1.80e+00],\n",
       "       [1.18e+02, 7.70e+00, 3.80e+00, 6.70e+00, 2.20e+00],\n",
       "       [1.19e+02, 7.70e+00, 2.60e+00, 6.90e+00, 2.30e+00],\n",
       "       [1.20e+02, 6.00e+00, 2.20e+00, 5.00e+00, 1.50e+00],\n",
       "       [1.21e+02, 6.90e+00, 3.20e+00, 5.70e+00, 2.30e+00],\n",
       "       [1.22e+02, 5.60e+00, 2.80e+00, 4.90e+00, 2.00e+00],\n",
       "       [1.23e+02, 7.70e+00, 2.80e+00, 6.70e+00, 2.00e+00],\n",
       "       [1.24e+02, 6.30e+00, 2.70e+00, 4.90e+00, 1.80e+00],\n",
       "       [1.25e+02, 6.70e+00, 3.30e+00, 5.70e+00, 2.10e+00],\n",
       "       [1.26e+02, 7.20e+00, 3.20e+00, 6.00e+00, 1.80e+00],\n",
       "       [1.27e+02, 6.20e+00, 2.80e+00, 4.80e+00, 1.80e+00],\n",
       "       [1.28e+02, 6.10e+00, 3.00e+00, 4.90e+00, 1.80e+00],\n",
       "       [1.29e+02, 6.40e+00, 2.80e+00, 5.60e+00, 2.10e+00],\n",
       "       [1.30e+02, 7.20e+00, 3.00e+00, 5.80e+00, 1.60e+00],\n",
       "       [1.31e+02, 7.40e+00, 2.80e+00, 6.10e+00, 1.90e+00],\n",
       "       [1.32e+02, 7.90e+00, 3.80e+00, 6.40e+00, 2.00e+00],\n",
       "       [1.33e+02, 6.40e+00, 2.80e+00, 5.60e+00, 2.20e+00],\n",
       "       [1.34e+02, 6.30e+00, 2.80e+00, 5.10e+00, 1.50e+00],\n",
       "       [1.35e+02, 6.10e+00, 2.60e+00, 5.60e+00, 1.40e+00],\n",
       "       [1.36e+02, 7.70e+00, 3.00e+00, 6.10e+00, 2.30e+00],\n",
       "       [1.37e+02, 6.30e+00, 3.40e+00, 5.60e+00, 2.40e+00],\n",
       "       [1.38e+02, 6.40e+00, 3.10e+00, 5.50e+00, 1.80e+00],\n",
       "       [1.39e+02, 6.00e+00, 3.00e+00, 4.80e+00, 1.80e+00],\n",
       "       [1.40e+02, 6.90e+00, 3.10e+00, 5.40e+00, 2.10e+00],\n",
       "       [1.41e+02, 6.70e+00, 3.10e+00, 5.60e+00, 2.40e+00],\n",
       "       [1.42e+02, 6.90e+00, 3.10e+00, 5.10e+00, 2.30e+00],\n",
       "       [1.43e+02, 5.80e+00, 2.70e+00, 5.10e+00, 1.90e+00],\n",
       "       [1.44e+02, 6.80e+00, 3.20e+00, 5.90e+00, 2.30e+00],\n",
       "       [1.45e+02, 6.70e+00, 3.30e+00, 5.70e+00, 2.50e+00],\n",
       "       [1.46e+02, 6.70e+00, 3.00e+00, 5.20e+00, 2.30e+00],\n",
       "       [1.47e+02, 6.30e+00, 2.50e+00, 5.00e+00, 1.90e+00],\n",
       "       [1.48e+02, 6.50e+00, 3.00e+00, 5.20e+00, 2.00e+00],\n",
       "       [1.49e+02, 6.20e+00, 3.40e+00, 5.40e+00, 2.30e+00],\n",
       "       [1.50e+02, 5.90e+00, 3.00e+00, 5.10e+00, 1.80e+00]])"
      ]
     },
     "execution_count": 8,
     "metadata": {},
     "output_type": "execute_result"
    }
   ],
   "source": [
    "x = iris.iloc[:,0:5].values\n",
    "x"
   ]
  },
  {
   "cell_type": "code",
   "execution_count": 9,
   "metadata": {},
   "outputs": [
    {
     "data": {
      "text/plain": [
       "array([0, 0, 0, 0, 0, 0, 0, 0, 0, 0, 0, 0, 0, 0, 0, 0, 0, 0, 0, 0, 0, 0,\n",
       "       0, 0, 0, 0, 0, 0, 0, 0, 0, 0, 0, 0, 0, 0, 0, 0, 0, 0, 0, 0, 0, 0,\n",
       "       0, 0, 0, 0, 0, 0, 1, 1, 1, 1, 1, 1, 1, 1, 1, 1, 1, 1, 1, 1, 1, 1,\n",
       "       1, 1, 1, 1, 1, 1, 1, 1, 1, 1, 1, 1, 1, 1, 1, 1, 1, 1, 1, 1, 1, 1,\n",
       "       1, 1, 1, 1, 1, 1, 1, 1, 1, 1, 1, 1, 2, 2, 2, 2, 2, 2, 2, 2, 2, 2,\n",
       "       2, 2, 2, 2, 2, 2, 2, 2, 2, 2, 2, 2, 2, 2, 2, 2, 2, 2, 2, 2, 2, 2,\n",
       "       2, 2, 2, 2, 2, 2, 2, 2, 2, 2, 2, 2, 2, 2, 2, 2, 2, 2])"
      ]
     },
     "execution_count": 9,
     "metadata": {},
     "output_type": "execute_result"
    }
   ],
   "source": [
    "y = iris.iloc[:,-1].values\n",
    "y"
   ]
  },
  {
   "cell_type": "code",
   "execution_count": 10,
   "metadata": {},
   "outputs": [],
   "source": [
    "from sklearn.model_selection import train_test_split\n",
    "x_train,x_test,y_train,y_test = train_test_split(x,y, test_size=0.2, random_state=0)"
   ]
  },
  {
   "cell_type": "code",
   "execution_count": 11,
   "metadata": {},
   "outputs": [
    {
     "name": "stdout",
     "output_type": "stream",
     "text": [
      "(120, 5) (30, 5) (120,) (30,)\n"
     ]
    }
   ],
   "source": [
    "print(x_train.shape,x_test.shape,y_train.shape,y_test.shape)"
   ]
  },
  {
   "cell_type": "markdown",
   "metadata": {},
   "source": [
    "# Algorithm define"
   ]
  },
  {
   "cell_type": "code",
   "execution_count": 12,
   "metadata": {},
   "outputs": [],
   "source": [
    "ann = tf.keras.models.Sequential()"
   ]
  },
  {
   "cell_type": "markdown",
   "metadata": {},
   "source": [
    "# Input Layer"
   ]
  },
  {
   "cell_type": "code",
   "execution_count": 13,
   "metadata": {},
   "outputs": [],
   "source": [
    "ann.add(tf.keras.layers.Dense(units=6,activation=\"relu\"))"
   ]
  },
  {
   "cell_type": "markdown",
   "metadata": {},
   "source": [
    "# Hidden layer"
   ]
  },
  {
   "cell_type": "code",
   "execution_count": 14,
   "metadata": {},
   "outputs": [],
   "source": [
    "ann.add(tf.keras.layers.Dense(units=6,activation=\"relu\"))"
   ]
  },
  {
   "cell_type": "markdown",
   "metadata": {},
   "source": [
    "# Output layer"
   ]
  },
  {
   "cell_type": "code",
   "execution_count": 15,
   "metadata": {},
   "outputs": [],
   "source": [
    "ann.add(tf.keras.layers.Dense(units=1,activation=\"softmax\"))"
   ]
  },
  {
   "cell_type": "markdown",
   "metadata": {},
   "source": [
    "# Compile"
   ]
  },
  {
   "cell_type": "code",
   "execution_count": 16,
   "metadata": {},
   "outputs": [],
   "source": [
    "ann.compile(optimizer=\"adam\",loss=\"categorical_crossentropy\",metrics=[\"accuracy\"])"
   ]
  },
  {
   "cell_type": "code",
   "execution_count": 17,
   "metadata": {},
   "outputs": [
    {
     "name": "stdout",
     "output_type": "stream",
     "text": [
      "Epoch 1/100\n",
      "3/3 [==============================] - 1s 7ms/step - loss: 0.0000e+00 - accuracy: 0.3083\n",
      "Epoch 2/100\n",
      "3/3 [==============================] - 0s 3ms/step - loss: 0.0000e+00 - accuracy: 0.3083\n",
      "Epoch 3/100\n",
      "3/3 [==============================] - 0s 4ms/step - loss: 0.0000e+00 - accuracy: 0.3083\n",
      "Epoch 4/100\n",
      "3/3 [==============================] - 0s 3ms/step - loss: 0.0000e+00 - accuracy: 0.3083\n",
      "Epoch 5/100\n",
      "3/3 [==============================] - 0s 3ms/step - loss: 0.0000e+00 - accuracy: 0.3083\n",
      "Epoch 6/100\n",
      "3/3 [==============================] - 0s 4ms/step - loss: 0.0000e+00 - accuracy: 0.3083\n",
      "Epoch 7/100\n",
      "3/3 [==============================] - 0s 4ms/step - loss: 0.0000e+00 - accuracy: 0.3083\n",
      "Epoch 8/100\n",
      "3/3 [==============================] - 0s 3ms/step - loss: 0.0000e+00 - accuracy: 0.3083\n",
      "Epoch 9/100\n",
      "3/3 [==============================] - 0s 3ms/step - loss: 0.0000e+00 - accuracy: 0.3083\n",
      "Epoch 10/100\n",
      "3/3 [==============================] - 0s 4ms/step - loss: 0.0000e+00 - accuracy: 0.3083\n",
      "Epoch 11/100\n",
      "3/3 [==============================] - 0s 4ms/step - loss: 0.0000e+00 - accuracy: 0.3083\n",
      "Epoch 12/100\n",
      "3/3 [==============================] - 0s 3ms/step - loss: 0.0000e+00 - accuracy: 0.3083\n",
      "Epoch 13/100\n",
      "3/3 [==============================] - 0s 3ms/step - loss: 0.0000e+00 - accuracy: 0.3083\n",
      "Epoch 14/100\n",
      "3/3 [==============================] - 0s 2ms/step - loss: 0.0000e+00 - accuracy: 0.3083\n",
      "Epoch 15/100\n",
      "3/3 [==============================] - 0s 4ms/step - loss: 0.0000e+00 - accuracy: 0.3083\n",
      "Epoch 16/100\n",
      "3/3 [==============================] - 0s 3ms/step - loss: 0.0000e+00 - accuracy: 0.3083\n",
      "Epoch 17/100\n",
      "3/3 [==============================] - 0s 3ms/step - loss: 0.0000e+00 - accuracy: 0.3083\n",
      "Epoch 18/100\n",
      "3/3 [==============================] - 0s 3ms/step - loss: 0.0000e+00 - accuracy: 0.3083\n",
      "Epoch 19/100\n",
      "3/3 [==============================] - 0s 4ms/step - loss: 0.0000e+00 - accuracy: 0.3083\n",
      "Epoch 20/100\n",
      "3/3 [==============================] - 0s 3ms/step - loss: 0.0000e+00 - accuracy: 0.3083\n",
      "Epoch 21/100\n",
      "3/3 [==============================] - 0s 3ms/step - loss: 0.0000e+00 - accuracy: 0.3083\n",
      "Epoch 22/100\n",
      "3/3 [==============================] - 0s 2ms/step - loss: 0.0000e+00 - accuracy: 0.3083\n",
      "Epoch 23/100\n",
      "3/3 [==============================] - 0s 3ms/step - loss: 0.0000e+00 - accuracy: 0.3083\n",
      "Epoch 24/100\n",
      "3/3 [==============================] - 0s 3ms/step - loss: 0.0000e+00 - accuracy: 0.3083\n",
      "Epoch 25/100\n",
      "3/3 [==============================] - 0s 3ms/step - loss: 0.0000e+00 - accuracy: 0.3083\n",
      "Epoch 26/100\n",
      "3/3 [==============================] - 0s 4ms/step - loss: 0.0000e+00 - accuracy: 0.3083\n",
      "Epoch 27/100\n",
      "3/3 [==============================] - 0s 4ms/step - loss: 0.0000e+00 - accuracy: 0.3083\n",
      "Epoch 28/100\n",
      "3/3 [==============================] - 0s 4ms/step - loss: 0.0000e+00 - accuracy: 0.3083\n",
      "Epoch 29/100\n",
      "3/3 [==============================] - 0s 3ms/step - loss: 0.0000e+00 - accuracy: 0.3083\n",
      "Epoch 30/100\n",
      "3/3 [==============================] - 0s 3ms/step - loss: 0.0000e+00 - accuracy: 0.3083\n",
      "Epoch 31/100\n",
      "3/3 [==============================] - 0s 2ms/step - loss: 0.0000e+00 - accuracy: 0.3083\n",
      "Epoch 32/100\n",
      "3/3 [==============================] - 0s 3ms/step - loss: 0.0000e+00 - accuracy: 0.3083\n",
      "Epoch 33/100\n",
      "3/3 [==============================] - 0s 4ms/step - loss: 0.0000e+00 - accuracy: 0.3083\n",
      "Epoch 34/100\n",
      "3/3 [==============================] - 0s 3ms/step - loss: 0.0000e+00 - accuracy: 0.3083\n",
      "Epoch 35/100\n",
      "3/3 [==============================] - 0s 4ms/step - loss: 0.0000e+00 - accuracy: 0.3083\n",
      "Epoch 36/100\n",
      "3/3 [==============================] - 0s 3ms/step - loss: 0.0000e+00 - accuracy: 0.3083\n",
      "Epoch 37/100\n",
      "3/3 [==============================] - 0s 3ms/step - loss: 0.0000e+00 - accuracy: 0.3083\n",
      "Epoch 38/100\n",
      "3/3 [==============================] - 0s 3ms/step - loss: 0.0000e+00 - accuracy: 0.3083\n",
      "Epoch 39/100\n",
      "3/3 [==============================] - 0s 3ms/step - loss: 0.0000e+00 - accuracy: 0.3083\n",
      "Epoch 40/100\n",
      "3/3 [==============================] - 0s 4ms/step - loss: 0.0000e+00 - accuracy: 0.3083\n",
      "Epoch 41/100\n",
      "3/3 [==============================] - 0s 4ms/step - loss: 0.0000e+00 - accuracy: 0.3083\n",
      "Epoch 42/100\n",
      "3/3 [==============================] - 0s 3ms/step - loss: 0.0000e+00 - accuracy: 0.3083\n",
      "Epoch 43/100\n",
      "3/3 [==============================] - 0s 4ms/step - loss: 0.0000e+00 - accuracy: 0.3083\n",
      "Epoch 44/100\n",
      "3/3 [==============================] - 0s 3ms/step - loss: 0.0000e+00 - accuracy: 0.3083\n",
      "Epoch 45/100\n",
      "3/3 [==============================] - 0s 2ms/step - loss: 0.0000e+00 - accuracy: 0.3083\n",
      "Epoch 46/100\n",
      "3/3 [==============================] - 0s 4ms/step - loss: 0.0000e+00 - accuracy: 0.3083\n",
      "Epoch 47/100\n",
      "3/3 [==============================] - 0s 4ms/step - loss: 0.0000e+00 - accuracy: 0.3083\n",
      "Epoch 48/100\n",
      "3/3 [==============================] - 0s 2ms/step - loss: 0.0000e+00 - accuracy: 0.3083\n",
      "Epoch 49/100\n",
      "3/3 [==============================] - 0s 4ms/step - loss: 0.0000e+00 - accuracy: 0.3083\n",
      "Epoch 50/100\n",
      "3/3 [==============================] - 0s 8ms/step - loss: 0.0000e+00 - accuracy: 0.3083\n",
      "Epoch 51/100\n",
      "3/3 [==============================] - 0s 5ms/step - loss: 0.0000e+00 - accuracy: 0.3083\n",
      "Epoch 52/100\n",
      "3/3 [==============================] - 0s 3ms/step - loss: 0.0000e+00 - accuracy: 0.3083\n",
      "Epoch 53/100\n",
      "3/3 [==============================] - 0s 3ms/step - loss: 0.0000e+00 - accuracy: 0.3083\n",
      "Epoch 54/100\n",
      "3/3 [==============================] - 0s 3ms/step - loss: 0.0000e+00 - accuracy: 0.3083\n",
      "Epoch 55/100\n",
      "3/3 [==============================] - 0s 3ms/step - loss: 0.0000e+00 - accuracy: 0.3083\n",
      "Epoch 56/100\n",
      "3/3 [==============================] - 0s 2ms/step - loss: 0.0000e+00 - accuracy: 0.3083\n",
      "Epoch 57/100\n",
      "3/3 [==============================] - 0s 3ms/step - loss: 0.0000e+00 - accuracy: 0.3083\n",
      "Epoch 58/100\n",
      "3/3 [==============================] - 0s 2ms/step - loss: 0.0000e+00 - accuracy: 0.3083\n",
      "Epoch 59/100\n",
      "3/3 [==============================] - 0s 3ms/step - loss: 0.0000e+00 - accuracy: 0.3083\n",
      "Epoch 60/100\n",
      "3/3 [==============================] - 0s 2ms/step - loss: 0.0000e+00 - accuracy: 0.3083\n",
      "Epoch 61/100\n",
      "3/3 [==============================] - 0s 2ms/step - loss: 0.0000e+00 - accuracy: 0.3083\n",
      "Epoch 62/100\n",
      "3/3 [==============================] - 0s 2ms/step - loss: 0.0000e+00 - accuracy: 0.3083\n",
      "Epoch 63/100\n",
      "3/3 [==============================] - 0s 3ms/step - loss: 0.0000e+00 - accuracy: 0.3083\n",
      "Epoch 64/100\n",
      "3/3 [==============================] - 0s 2ms/step - loss: 0.0000e+00 - accuracy: 0.3083\n",
      "Epoch 65/100\n",
      "3/3 [==============================] - 0s 2ms/step - loss: 0.0000e+00 - accuracy: 0.3083\n",
      "Epoch 66/100\n",
      "3/3 [==============================] - 0s 3ms/step - loss: 0.0000e+00 - accuracy: 0.3083\n",
      "Epoch 67/100\n",
      "3/3 [==============================] - 0s 2ms/step - loss: 0.0000e+00 - accuracy: 0.3083\n",
      "Epoch 68/100\n",
      "3/3 [==============================] - 0s 2ms/step - loss: 0.0000e+00 - accuracy: 0.3083\n",
      "Epoch 69/100\n",
      "3/3 [==============================] - 0s 3ms/step - loss: 0.0000e+00 - accuracy: 0.3083\n",
      "Epoch 70/100\n",
      "3/3 [==============================] - 0s 2ms/step - loss: 0.0000e+00 - accuracy: 0.3083\n",
      "Epoch 71/100\n",
      "3/3 [==============================] - 0s 2ms/step - loss: 0.0000e+00 - accuracy: 0.3083\n",
      "Epoch 72/100\n",
      "3/3 [==============================] - 0s 2ms/step - loss: 0.0000e+00 - accuracy: 0.3083\n",
      "Epoch 73/100\n",
      "3/3 [==============================] - 0s 3ms/step - loss: 0.0000e+00 - accuracy: 0.3083\n",
      "Epoch 74/100\n",
      "3/3 [==============================] - 0s 2ms/step - loss: 0.0000e+00 - accuracy: 0.3083\n",
      "Epoch 75/100\n",
      "3/3 [==============================] - 0s 3ms/step - loss: 0.0000e+00 - accuracy: 0.3083\n",
      "Epoch 76/100\n",
      "3/3 [==============================] - 0s 3ms/step - loss: 0.0000e+00 - accuracy: 0.3083\n",
      "Epoch 77/100\n",
      "3/3 [==============================] - 0s 3ms/step - loss: 0.0000e+00 - accuracy: 0.3083\n",
      "Epoch 78/100\n",
      "3/3 [==============================] - 0s 2ms/step - loss: 0.0000e+00 - accuracy: 0.3083\n",
      "Epoch 79/100\n",
      "3/3 [==============================] - 0s 3ms/step - loss: 0.0000e+00 - accuracy: 0.3083\n",
      "Epoch 80/100\n",
      "3/3 [==============================] - 0s 3ms/step - loss: 0.0000e+00 - accuracy: 0.3083\n",
      "Epoch 81/100\n"
     ]
    },
    {
     "name": "stdout",
     "output_type": "stream",
     "text": [
      "3/3 [==============================] - 0s 2ms/step - loss: 0.0000e+00 - accuracy: 0.3083\n",
      "Epoch 82/100\n",
      "3/3 [==============================] - 0s 3ms/step - loss: 0.0000e+00 - accuracy: 0.3083\n",
      "Epoch 83/100\n",
      "3/3 [==============================] - 0s 3ms/step - loss: 0.0000e+00 - accuracy: 0.3083\n",
      "Epoch 84/100\n",
      "3/3 [==============================] - 0s 3ms/step - loss: 0.0000e+00 - accuracy: 0.3083\n",
      "Epoch 85/100\n",
      "3/3 [==============================] - 0s 3ms/step - loss: 0.0000e+00 - accuracy: 0.3083\n",
      "Epoch 86/100\n",
      "3/3 [==============================] - 0s 2ms/step - loss: 0.0000e+00 - accuracy: 0.3083\n",
      "Epoch 87/100\n",
      "3/3 [==============================] - 0s 2ms/step - loss: 0.0000e+00 - accuracy: 0.3083\n",
      "Epoch 88/100\n",
      "3/3 [==============================] - 0s 3ms/step - loss: 0.0000e+00 - accuracy: 0.3083\n",
      "Epoch 89/100\n",
      "3/3 [==============================] - 0s 2ms/step - loss: 0.0000e+00 - accuracy: 0.3083\n",
      "Epoch 90/100\n",
      "3/3 [==============================] - 0s 2ms/step - loss: 0.0000e+00 - accuracy: 0.3083\n",
      "Epoch 91/100\n",
      "3/3 [==============================] - 0s 3ms/step - loss: 0.0000e+00 - accuracy: 0.3083\n",
      "Epoch 92/100\n",
      "3/3 [==============================] - 0s 2ms/step - loss: 0.0000e+00 - accuracy: 0.3083\n",
      "Epoch 93/100\n",
      "3/3 [==============================] - 0s 2ms/step - loss: 0.0000e+00 - accuracy: 0.3083\n",
      "Epoch 94/100\n",
      "3/3 [==============================] - 0s 3ms/step - loss: 0.0000e+00 - accuracy: 0.3083\n",
      "Epoch 95/100\n",
      "3/3 [==============================] - 0s 2ms/step - loss: 0.0000e+00 - accuracy: 0.3083\n",
      "Epoch 96/100\n",
      "3/3 [==============================] - 0s 2ms/step - loss: 0.0000e+00 - accuracy: 0.3083\n",
      "Epoch 97/100\n",
      "3/3 [==============================] - 0s 3ms/step - loss: 0.0000e+00 - accuracy: 0.3083\n",
      "Epoch 98/100\n",
      "3/3 [==============================] - 0s 2ms/step - loss: 0.0000e+00 - accuracy: 0.3083\n",
      "Epoch 99/100\n",
      "3/3 [==============================] - 0s 2ms/step - loss: 0.0000e+00 - accuracy: 0.3083\n",
      "Epoch 100/100\n",
      "3/3 [==============================] - 0s 3ms/step - loss: 0.0000e+00 - accuracy: 0.3083\n"
     ]
    },
    {
     "data": {
      "text/plain": [
       "<keras.callbacks.History at 0x24d4beb9760>"
      ]
     },
     "execution_count": 17,
     "metadata": {},
     "output_type": "execute_result"
    }
   ],
   "source": [
    "ann.fit(x_train,y_train, batch_size=50, epochs=100)"
   ]
  },
  {
   "cell_type": "markdown",
   "metadata": {},
   "source": [
    "# Prediction"
   ]
  },
  {
   "cell_type": "code",
   "execution_count": 18,
   "metadata": {
    "scrolled": true
   },
   "outputs": [
    {
     "name": "stdout",
     "output_type": "stream",
     "text": [
      "[[1 2]\n",
      " [1 1]\n",
      " [1 0]\n",
      " [1 2]\n",
      " [1 0]\n",
      " [1 2]\n",
      " [1 0]\n",
      " [1 1]\n",
      " [1 1]\n",
      " [1 1]\n",
      " [1 2]\n",
      " [1 1]\n",
      " [1 1]\n",
      " [1 1]\n",
      " [1 1]\n",
      " [1 0]\n",
      " [1 1]\n",
      " [1 1]\n",
      " [1 0]\n",
      " [1 0]\n",
      " [1 2]\n",
      " [1 1]\n",
      " [1 0]\n",
      " [1 0]\n",
      " [1 2]\n",
      " [1 0]\n",
      " [1 0]\n",
      " [1 1]\n",
      " [1 1]\n",
      " [1 0]]\n"
     ]
    }
   ],
   "source": [
    "y_pred = ann.predict(x_test)\n",
    "y_pred = y_pred > 0.5\n",
    "print(np.concatenate((y_pred.reshape(len(y_pred),1),y_test.reshape(len(y_test),1)),1))"
   ]
  },
  {
   "cell_type": "markdown",
   "metadata": {},
   "source": [
    "# Accuracy_score "
   ]
  },
  {
   "cell_type": "code",
   "execution_count": 19,
   "metadata": {},
   "outputs": [
    {
     "name": "stderr",
     "output_type": "stream",
     "text": [
      "C:\\Users\\Acer\\anaconda3\\lib\\site-packages\\sklearn\\metrics\\_classification.py:1318: UndefinedMetricWarning: Recall and F-score are ill-defined and being set to 0.0 in labels with no true samples. Use `zero_division` parameter to control this behavior.\n",
      "  _warn_prf(average, modifier, msg_start, len(result))\n",
      "C:\\Users\\Acer\\anaconda3\\lib\\site-packages\\sklearn\\metrics\\_classification.py:1318: UndefinedMetricWarning: Recall and F-score are ill-defined and being set to 0.0 in labels with no true samples. Use `zero_division` parameter to control this behavior.\n",
      "  _warn_prf(average, modifier, msg_start, len(result))\n",
      "C:\\Users\\Acer\\anaconda3\\lib\\site-packages\\sklearn\\metrics\\_classification.py:1318: UndefinedMetricWarning: Recall and F-score are ill-defined and being set to 0.0 in labels with no true samples. Use `zero_division` parameter to control this behavior.\n",
      "  _warn_prf(average, modifier, msg_start, len(result))\n"
     ]
    }
   ],
   "source": [
    "from sklearn.metrics import accuracy_score,confusion_matrix,classification_report\n",
    "ac = accuracy_score(y_pred,y_test)*100\n",
    "cm = confusion_matrix(y_pred,y_test)\n",
    "cr = classification_report(y_pred,y_test)"
   ]
  },
  {
   "cell_type": "code",
   "execution_count": 20,
   "metadata": {},
   "outputs": [
    {
     "name": "stdout",
     "output_type": "stream",
     "text": [
      "43.333333333333336\n"
     ]
    }
   ],
   "source": [
    "print(ac)"
   ]
  },
  {
   "cell_type": "code",
   "execution_count": 21,
   "metadata": {},
   "outputs": [
    {
     "name": "stdout",
     "output_type": "stream",
     "text": [
      "[[ 0  0  0]\n",
      " [11 13  6]\n",
      " [ 0  0  0]]\n"
     ]
    }
   ],
   "source": [
    "print(cm)"
   ]
  },
  {
   "cell_type": "code",
   "execution_count": 22,
   "metadata": {},
   "outputs": [
    {
     "name": "stdout",
     "output_type": "stream",
     "text": [
      "              precision    recall  f1-score   support\n",
      "\n",
      "           0       0.00      0.00      0.00         0\n",
      "           1       1.00      0.43      0.60        30\n",
      "           2       0.00      0.00      0.00         0\n",
      "\n",
      "    accuracy                           0.43        30\n",
      "   macro avg       0.33      0.14      0.20        30\n",
      "weighted avg       1.00      0.43      0.60        30\n",
      "\n"
     ]
    }
   ],
   "source": [
    "print(cr)"
   ]
  },
  {
   "cell_type": "code",
   "execution_count": null,
   "metadata": {},
   "outputs": [],
   "source": []
  }
 ],
 "metadata": {
  "kernelspec": {
   "display_name": "Python 3 (ipykernel)",
   "language": "python",
   "name": "python3"
  },
  "language_info": {
   "codemirror_mode": {
    "name": "ipython",
    "version": 3
   },
   "file_extension": ".py",
   "mimetype": "text/x-python",
   "name": "python",
   "nbconvert_exporter": "python",
   "pygments_lexer": "ipython3",
   "version": "3.9.7"
  }
 },
 "nbformat": 4,
 "nbformat_minor": 4
}
